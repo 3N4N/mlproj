{
 "cells": [
  {
   "cell_type": "markdown",
   "id": "6750579f-b965-4db6-9b26-8aefd16a7e23",
   "metadata": {},
   "source": [
    "## Import Libs"
   ]
  },
  {
   "cell_type": "code",
   "execution_count": 219,
   "id": "d6c69ebc-7ed2-402b-b9c4-569fadbad833",
   "metadata": {},
   "outputs": [],
   "source": [
    "import numpy as np\n",
    "import pandas as pd\n",
    "import csv\n",
    "import os\n",
    "import sys\n",
    "import librosa\n",
    "import librosa.display\n",
    "import matplotlib.pyplot as plt\n",
    "from pathlib import Path"
   ]
  },
  {
   "cell_type": "code",
   "execution_count": 220,
   "id": "cf10eb79-8e11-4986-b607-56ff254dd05f",
   "metadata": {},
   "outputs": [
    {
     "name": "stdout",
     "output_type": "stream",
     "text": [
      "The autoreload extension is already loaded. To reload it, use:\n",
      "  %reload_ext autoreload\n"
     ]
    }
   ],
   "source": [
    "%load_ext autoreload\n",
    "%autoreload 2\n",
    "%matplotlib inline"
   ]
  },
  {
   "cell_type": "markdown",
   "id": "186d3a96-d0ae-4d5f-8bea-346a3b16f863",
   "metadata": {},
   "source": [
    "## Set Variables"
   ]
  },
  {
   "cell_type": "code",
   "execution_count": 221,
   "id": "98aabd96-bfaa-4a07-ab56-724b9d527549",
   "metadata": {},
   "outputs": [],
   "source": [
    "dataset_path = './data/gtzan'\n",
    "diraudiofiles = f\"{dataset_path}/genres_3sec\"\n",
    "features_path = f'{dataset_path}/features'\n",
    "melspec_path = f'{features_path}/melspecs_3sec'\n",
    "test_dir = f'{dataset_path}/test1'"
   ]
  },
  {
   "cell_type": "code",
   "execution_count": 222,
   "id": "6c2cabbe-3366-41a0-acac-0c020cddff51",
   "metadata": {},
   "outputs": [],
   "source": [
    "genres = 'blues classical country disco hiphop jazz metal pop reggae rock'.split()"
   ]
  },
  {
   "cell_type": "code",
   "execution_count": 223,
   "id": "3510d23c-4fd6-410f-a193-a30af135806e",
   "metadata": {},
   "outputs": [],
   "source": [
    "ignorefiles = ['jazz.00054.wav']"
   ]
  },
  {
   "cell_type": "code",
   "execution_count": 224,
   "id": "e93108cf-03f5-46fd-adb3-3f39907a0c63",
   "metadata": {},
   "outputs": [],
   "source": [
    "target_size = (288, 432)\n",
    "# target_size = (640,480)\n",
    "batch_size = 128"
   ]
  },
  {
   "cell_type": "markdown",
   "id": "49102290-0417-4d9b-8717-23b4102b2d5f",
   "metadata": {},
   "source": [
    "## Load Pretrained Model"
   ]
  },
  {
   "cell_type": "code",
   "execution_count": 225,
   "id": "df3efb6e-0c63-4def-8071-57e076b267a0",
   "metadata": {},
   "outputs": [],
   "source": [
    "import keras.backend as K"
   ]
  },
  {
   "cell_type": "code",
   "execution_count": 226,
   "id": "58ed5000-4d00-4eff-b8b9-cdbfec31dbf4",
   "metadata": {},
   "outputs": [],
   "source": [
    "def get_f1(y_true, y_pred): # taken from old keras source code\n",
    "    true_positives = K.sum(K.round(K.clip(y_true * y_pred, 0, 1)))\n",
    "    possible_positives = K.sum(K.round(K.clip(y_true, 0, 1)))\n",
    "    predicted_positives = K.sum(K.round(K.clip(y_pred, 0, 1)))\n",
    "    precision = true_positives / (predicted_positives + K.epsilon())\n",
    "    recall = true_positives / (possible_positives + K.epsilon())\n",
    "    f1_val = 2*(precision*recall)/(precision+recall+K.epsilon())\n",
    "    return f1_val"
   ]
  },
  {
   "cell_type": "code",
   "execution_count": 227,
   "id": "c2369775-595c-497f-95f8-4c2e06515a6c",
   "metadata": {},
   "outputs": [],
   "source": [
    "import tensorflow as tf\n",
    "from keras.preprocessing.image import load_img, img_to_array"
   ]
  },
  {
   "cell_type": "code",
   "execution_count": 228,
   "id": "329704ca-a05e-46f9-9aeb-a7ac43dc4b33",
   "metadata": {},
   "outputs": [],
   "source": [
    "model = tf.keras.models.load_model(\"results/model\", custom_objects={'get_f1': get_f1})"
   ]
  },
  {
   "cell_type": "code",
   "execution_count": 229,
   "id": "03d027a7-a4cf-41b6-8ca2-279651b869b5",
   "metadata": {},
   "outputs": [],
   "source": [
    "import pickle"
   ]
  },
  {
   "cell_type": "code",
   "execution_count": 230,
   "id": "c5f295c1-0228-49e0-aa6d-9876b06564d6",
   "metadata": {},
   "outputs": [],
   "source": [
    "with open('results/history.pkl', 'rb') as f:\n",
    "    hist = pickle.load(f)"
   ]
  },
  {
   "cell_type": "code",
   "execution_count": 231,
   "id": "8e708805-dc5b-4ca8-8113-a0e48b0935c3",
   "metadata": {},
   "outputs": [],
   "source": [
    "def plot_history(hist):\n",
    "    fig,ax = plt.subplots(2, 1, figsize=(8,5))\n",
    "    # fig.tight_layout()\n",
    "\n",
    "    ax[0].plot(hist['accuracy'])\n",
    "    ax[0].plot(hist['val_accuracy'])\n",
    "    ax[0].set_title('model accuracy')\n",
    "    ax[0].set_ylabel('accuracy')\n",
    "    ax[0].legend(['train', 'val'], loc='upper left')\n",
    "\n",
    "    plt.subplots_adjust(hspace = 0.4)\n",
    "\n",
    "    ax[1].plot(hist['loss'])\n",
    "    ax[1].plot(hist['val_loss'])\n",
    "    plt.title('model loss')\n",
    "    ax[1].set_ylabel('loss')\n",
    "    ax[1].set_xlabel('epoch')\n",
    "    ax[1].legend(['train', 'val'], loc='upper left')\n",
    "\n",
    "    plt.show()"
   ]
  },
  {
   "cell_type": "code",
   "execution_count": 232,
   "id": "f6d7bb1e-ef6d-42d6-a78c-4d5aa031c65f",
   "metadata": {},
   "outputs": [
    {
     "data": {
      "image/png": "[encoded data removed]",
      "text/plain": [
       "<Figure size 576x360 with 2 Axes>"
      ]
     },
     "metadata": {
      "needs_background": "light"
     },
     "output_type": "display_data"
    }
   ],
   "source": [
    "plot_history(hist)"
   ]
  },
  {
   "cell_type": "markdown",
   "id": "9a912514-b74b-4b61-a090-35617985d242",
   "metadata": {},
   "source": [
    "## Evaluate Model"
   ]
  },
  {
   "cell_type": "code",
   "execution_count": 233,
   "id": "871b8ced-5c1d-4e97-95c9-6da4509d147e",
   "metadata": {},
   "outputs": [],
   "source": [
    "def predict(model, image_data, target_size, classes):\n",
    "    image = image_data.resize((288,432))\n",
    "    image = img_to_array(image_data)\n",
    "    image = np.reshape(image,(1,*target_size,4))\n",
    "    image /= 255\n",
    "    prediction = model.predict(image)\n",
    "    prediction = prediction.reshape((classes,))\n",
    "    class_label = np.argmax(prediction)\n",
    "\n",
    "    return class_label,prediction"
   ]
  },
  {
   "cell_type": "code",
   "execution_count": 234,
   "id": "1f9fd4fc-4e12-49df-b545-dbe26b52ccd6",
   "metadata": {},
   "outputs": [],
   "source": [
    "def evaluate(path):\n",
    "    image_data = load_img(path, color_mode='rgba',target_size=target_size)\n",
    "    label, scores = predict(model, image_data, target_size, len(genres))\n",
    "    return label"
   ]
  },
  {
   "cell_type": "code",
   "execution_count": 235,
   "id": "afd92671-077d-4651-bf23-179783229bfa",
   "metadata": {},
   "outputs": [
    {
     "data": {
      "text/plain": [
       "'metal'"
      ]
     },
     "execution_count": 235,
     "metadata": {},
     "output_type": "execute_result"
    }
   ],
   "source": [
    "genres[evaluate('data/gtzan/melspecs_3sec/blues/blues.00110.png')]"
   ]
  },
  {
   "cell_type": "code",
   "execution_count": 236,
   "id": "09fab263-f346-4b86-8d36-d1de165336d9",
   "metadata": {},
   "outputs": [],
   "source": [
    "data = []\n",
    "\n",
    "for path in Path(f'{dataset_path}/test').glob(\"**/*.png\"):\n",
    "    if sys.platform == 'win32':\n",
    "        pathsep = '\\\\'\n",
    "    else:\n",
    "        pathsep = '/'\n",
    "        \n",
    "    label = str(path).split(pathsep)[-2]\n",
    "    name = str(path).split(pathsep)[-1]\n",
    "    \n",
    "    if name in ignorefiles:\n",
    "        continue\n",
    "\n",
    "    data.append({\n",
    "        # \"name\": name,\n",
    "        \"path\": path,\n",
    "        \"label\": label\n",
    "    })"
   ]
  },
  {
   "cell_type": "code",
   "execution_count": 237,
   "id": "b3abf454-1655-44fb-8bc7-366ec0c5e533",
   "metadata": {},
   "outputs": [
    {
     "data": {
      "text/html": [
       "<div>\n",
       "<style scoped>\n",
       "    .dataframe tbody tr th:only-of-type {\n",
       "        vertical-align: middle;\n",
       "    }\n",
       "\n",
       "    .dataframe tbody tr th {\n",
       "        vertical-align: top;\n",
       "    }\n",
       "\n",
       "    .dataframe thead th {\n",
       "        text-align: right;\n",
       "    }\n",
       "</style>\n",
       "<table border=\"1\" class=\"dataframe\">\n",
       "  <thead>\n",
       "    <tr style=\"text-align: right;\">\n",
       "      <th></th>\n",
       "      <th>path</th>\n",
       "    </tr>\n",
       "    <tr>\n",
       "      <th>label</th>\n",
       "      <th></th>\n",
       "    </tr>\n",
       "  </thead>\n",
       "  <tbody>\n",
       "    <tr>\n",
       "      <th>blues</th>\n",
       "      <td>50</td>\n",
       "    </tr>\n",
       "    <tr>\n",
       "      <th>classical</th>\n",
       "      <td>50</td>\n",
       "    </tr>\n",
       "    <tr>\n",
       "      <th>country</th>\n",
       "      <td>50</td>\n",
       "    </tr>\n",
       "    <tr>\n",
       "      <th>disco</th>\n",
       "      <td>50</td>\n",
       "    </tr>\n",
       "    <tr>\n",
       "      <th>hiphop</th>\n",
       "      <td>50</td>\n",
       "    </tr>\n",
       "    <tr>\n",
       "      <th>jazz</th>\n",
       "      <td>39</td>\n",
       "    </tr>\n",
       "    <tr>\n",
       "      <th>metal</th>\n",
       "      <td>50</td>\n",
       "    </tr>\n",
       "    <tr>\n",
       "      <th>pop</th>\n",
       "      <td>50</td>\n",
       "    </tr>\n",
       "    <tr>\n",
       "      <th>reggae</th>\n",
       "      <td>50</td>\n",
       "    </tr>\n",
       "    <tr>\n",
       "      <th>rock</th>\n",
       "      <td>50</td>\n",
       "    </tr>\n",
       "  </tbody>\n",
       "</table>\n",
       "</div>"
      ],
      "text/plain": [
       "           path\n",
       "label          \n",
       "blues        50\n",
       "classical    50\n",
       "country      50\n",
       "disco        50\n",
       "hiphop       50\n",
       "jazz         39\n",
       "metal        50\n",
       "pop          50\n",
       "reggae       50\n",
       "rock         50"
      ]
     },
     "execution_count": 237,
     "metadata": {},
     "output_type": "execute_result"
    }
   ],
   "source": [
    "df = pd.DataFrame(data)\n",
    "df.groupby(\"label\").count()[[\"path\"]]"
   ]
  },
  {
   "cell_type": "code",
   "execution_count": 238,
   "id": "9732172f-3004-4f5b-996e-564e85284db9",
   "metadata": {},
   "outputs": [],
   "source": [
    "scores = list(map(evaluate, df['path']))"
   ]
  },
  {
   "cell_type": "code",
   "execution_count": 239,
   "id": "658a4eb1-eccd-4f08-9081-a025516b173c",
   "metadata": {},
   "outputs": [],
   "source": [
    "y_true = df['label'].to_list()\n",
    "y_pred = [genres[i] for i in scores]"
   ]
  },
  {
   "cell_type": "code",
   "execution_count": 240,
   "id": "6df4dca7-0c8c-45fb-a51e-d62b101ca2f7",
   "metadata": {},
   "outputs": [],
   "source": [
    "from sklearn.metrics import classification_report"
   ]
  },
  {
   "cell_type": "code",
   "execution_count": 241,
   "id": "97275746-00f1-42da-91cb-87298c345ba7",
   "metadata": {},
   "outputs": [
    {
     "name": "stdout",
     "output_type": "stream",
     "text": [
      "              precision    recall  f1-score   support\n",
      "\n",
      "       blues       0.00      0.00      0.00        50\n",
      "   classical       0.78      0.78      0.78        50\n",
      "     country       0.32      0.90      0.47        50\n",
      "       disco       0.80      0.32      0.46        50\n",
      "      hiphop       0.00      0.00      0.00        50\n",
      "        jazz       0.42      0.77      0.54        39\n",
      "       metal       0.35      0.98      0.51        50\n",
      "         pop       0.00      0.00      0.00        50\n",
      "      reggae       0.52      0.66      0.58        50\n",
      "        rock       0.00      0.00      0.00        50\n",
      "\n",
      "    accuracy                           0.43       489\n",
      "   macro avg       0.32      0.44      0.33       489\n",
      "weighted avg       0.32      0.43      0.33       489\n",
      "\n"
     ]
    },
    {
     "name": "stderr",
     "output_type": "stream",
     "text": [
      "E:\\projects\\mlproj\\mlproj\\lib\\site-packages\\sklearn\\metrics\\_classification.py:1318: UndefinedMetricWarning: Precision and F-score are ill-defined and being set to 0.0 in labels with no predicted samples. Use `zero_division` parameter to control this behavior.\n",
      "  _warn_prf(average, modifier, msg_start, len(result))\n",
      "E:\\projects\\mlproj\\mlproj\\lib\\site-packages\\sklearn\\metrics\\_classification.py:1318: UndefinedMetricWarning: Precision and F-score are ill-defined and being set to 0.0 in labels with no predicted samples. Use `zero_division` parameter to control this behavior.\n",
      "  _warn_prf(average, modifier, msg_start, len(result))\n",
      "E:\\projects\\mlproj\\mlproj\\lib\\site-packages\\sklearn\\metrics\\_classification.py:1318: UndefinedMetricWarning: Precision and F-score are ill-defined and being set to 0.0 in labels with no predicted samples. Use `zero_division` parameter to control this behavior.\n",
      "  _warn_prf(average, modifier, msg_start, len(result))\n"
     ]
    }
   ],
   "source": [
    "print(classification_report(y_true, y_pred, target_names=genres))"
   ]
  },
  {
   "cell_type": "markdown",
   "id": "443722f0-4aad-4ff5-9da9-fd74d9ac1c23",
   "metadata": {},
   "source": [
    "## Predict Genres of Manually Curated Songs"
   ]
  },
  {
   "cell_type": "code",
   "execution_count": 242,
   "id": "4cf79626-dd1e-4768-98f4-02c1a682e0ee",
   "metadata": {},
   "outputs": [],
   "source": [
    "test_dir = f'{dataset_path}/test1'\n",
    "song = 'Taylor_Swift_Love_Story'\n",
    "song += ' Nirvana_Smells_Like_Teen_Spirit'\n",
    "song += ' Green_Day_American_Idiot'\n",
    "songs = song.split()\n",
    "\n",
    "preds = None\n",
    "\n",
    "for song in songs:\n",
    "    pred = None\n",
    "    for i, filename in enumerate(os.listdir(f'{test_dir}')):\n",
    "        if song not in filename:\n",
    "            continue\n",
    "        image_data = load_img(f'{test_dir}/{filename}',color_mode='rgba',target_size=target_size)\n",
    "        class_label, prediction = predict(model, image_data, target_size, 10)\n",
    "        if pred is None:\n",
    "            pred = prediction\n",
    "        else:\n",
    "            pred = (pred + prediction)\n",
    "\n",
    "    if preds is None:\n",
    "        preds = pred / np.sum(pred)\n",
    "    else:\n",
    "        preds = np.vstack([preds, pred / np.sum(pred)])"
   ]
  },
  {
   "cell_type": "code",
   "execution_count": 243,
   "id": "82a3aa86-d4c4-4469-87f7-e3ef67d76c08",
   "metadata": {},
   "outputs": [
    {
     "data": {
      "text/plain": [
       "array([1.0000001 , 0.99999994, 1.        ], dtype=float32)"
      ]
     },
     "execution_count": 243,
     "metadata": {},
     "output_type": "execute_result"
    }
   ],
   "source": [
    "np.sum(preds,axis=1)"
   ]
  },
  {
   "cell_type": "code",
   "execution_count": 244,
   "id": "f289efa3-3da0-4068-84f4-27d4b1741cf1",
   "metadata": {},
   "outputs": [
    {
     "data": {
      "image/png": "[encoded data removed]",
      "text/plain": [
       "<Figure size 1440x360 with 3 Axes>"
      ]
     },
     "metadata": {
      "needs_background": "light"
     },
     "output_type": "display_data"
    }
   ],
   "source": [
    "fig,ax = plt.subplots(1,len(songs),figsize=(20,5))\n",
    "\n",
    "for i in range(len(songs)):\n",
    "    ax[i].bar(x=genres,height=preds[i])\n",
    "    ax[i].tick_params('x', labelrotation=45)\n",
    "    ax[i].set_title(f'{songs[i]}')\n",
    "    \n",
    "plt.show()"
   ]
  }
 ],
 "metadata": {
  "kernelspec": {
   "display_name": "mlproj",
   "language": "python",
   "name": "mlproj"
  },
  "language_info": {
   "codemirror_mode": {
    "name": "ipython",
    "version": 3
   },
   "file_extension": ".py",
   "mimetype": "text/x-python",
   "name": "python",
   "nbconvert_exporter": "python",
   "pygments_lexer": "ipython3",
   "version": "3.9.7"
  }
 },
 "nbformat": 4,
 "nbformat_minor": 5
}
