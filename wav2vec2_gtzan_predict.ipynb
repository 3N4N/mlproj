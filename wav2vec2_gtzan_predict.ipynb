{
 "cells": [
  {
   "cell_type": "markdown",
   "id": "307ca2f1-5e07-48a3-a38d-725dab7e49a9",
   "metadata": {},
   "source": [
    "## Set variables"
   ]
  },
  {
   "cell_type": "code",
   "execution_count": 1,
   "id": "791697cd-e7c9-43d6-93ee-d482aecd5cb7",
   "metadata": {},
   "outputs": [],
   "source": [
    "dataset_path = './data/gtzan'\n",
    "diraudiofiles = f\"{dataset_path}/genres_3sec\"\n",
    "features_path = f'{dataset_path}/features'\n",
    "melspec_path = f'{features_path}/melspecs_3sec'\n",
    "test_dir = f'{dataset_path}/test1'"
   ]
  },
  {
   "cell_type": "code",
   "execution_count": 2,
   "id": "6cdae89e-fd79-41cf-b522-0943d2811503",
   "metadata": {},
   "outputs": [],
   "source": [
    "genres = 'blues classical country disco hiphop jazz metal pop reggae rock'.split()"
   ]
  },
  {
   "cell_type": "code",
   "execution_count": 3,
   "id": "96453679-4c3f-4c84-a642-3fcc1d89dafe",
   "metadata": {},
   "outputs": [],
   "source": [
    "# model_name_or_path = \"m3hrdadfi/wav2vec2-base-100k-gtzan-music-genres\"\n",
    "model_name_or_path = \"models/wav2vec2-base-100k-gtzan-music-genres\""
   ]
  },
  {
   "cell_type": "markdown",
   "id": "0db39ce5-b73d-4be6-af6f-9fa87a220dcd",
   "metadata": {},
   "source": [
    "## Genre classifier using wav2wec2 "
   ]
  },
  {
   "cell_type": "code",
   "execution_count": 4,
   "id": "c5363579-d10e-41aa-89d0-a7060d60c7a0",
   "metadata": {
    "id": "uJZoC4T5HpuP"
   },
   "outputs": [],
   "source": [
    "from dataclasses import dataclass\n",
    "from typing import Optional, Tuple\n",
    "import torch\n",
    "from transformers.file_utils import ModelOutput\n",
    "\n",
    "@dataclass\n",
    "class SpeechClassifierOutput(ModelOutput):\n",
    "    loss: Optional[torch.FloatTensor] = None\n",
    "    logits: torch.FloatTensor = None\n",
    "    hidden_states: Optional[Tuple[torch.FloatTensor]] = None\n",
    "    attentions: Optional[Tuple[torch.FloatTensor]] = None"
   ]
  },
  {
   "cell_type": "code",
   "execution_count": 5,
   "id": "b5631c7d-b6b3-45ad-8fe6-f5b478f3c3a8",
   "metadata": {
    "id": "Fv62ShDsH5DZ"
   },
   "outputs": [],
   "source": [
    "import torch\n",
    "import torch.nn as nn\n",
    "from torch.nn import BCEWithLogitsLoss, CrossEntropyLoss, MSELoss\n",
    "\n",
    "from transformers.models.wav2vec2.modeling_wav2vec2 import (\n",
    "    Wav2Vec2PreTrainedModel,\n",
    "    Wav2Vec2Model\n",
    ")\n",
    "\n",
    "\n",
    "class Wav2Vec2ClassificationHead(nn.Module):\n",
    "    \"\"\"Head for wav2vec classification task.\"\"\"\n",
    "\n",
    "    def __init__(self, config):\n",
    "        super().__init__()\n",
    "        self.dense = nn.Linear(config.hidden_size, config.hidden_size)\n",
    "        self.dropout = nn.Dropout(config.final_dropout)\n",
    "        self.out_proj = nn.Linear(config.hidden_size, config.num_labels)\n",
    "\n",
    "    def forward(self, features, **kwargs):\n",
    "        x = features\n",
    "        x = self.dropout(x)\n",
    "        x = self.dense(x)\n",
    "        x = torch.tanh(x)\n",
    "        x = self.dropout(x)\n",
    "        x = self.out_proj(x)\n",
    "        return x\n",
    "\n",
    "\n",
    "class Wav2Vec2ForSpeechClassification(Wav2Vec2PreTrainedModel):\n",
    "    def __init__(self, config):\n",
    "        super().__init__(config)\n",
    "        self.num_labels = config.num_labels\n",
    "        self.pooling_mode = config.pooling_mode\n",
    "        self.config = config\n",
    "\n",
    "        self.wav2vec2 = Wav2Vec2Model(config)\n",
    "        self.classifier = Wav2Vec2ClassificationHead(config)\n",
    "\n",
    "        self.init_weights()\n",
    "\n",
    "    def freeze_feature_extractor(self):\n",
    "        self.wav2vec2.feature_extractor._freeze_parameters()\n",
    "\n",
    "    def merged_strategy(\n",
    "            self,\n",
    "            hidden_states,\n",
    "            mode=\"mean\"\n",
    "    ):\n",
    "        if mode == \"mean\":\n",
    "            outputs = torch.mean(hidden_states, dim=1)\n",
    "        elif mode == \"sum\":\n",
    "            outputs = torch.sum(hidden_states, dim=1)\n",
    "        elif mode == \"max\":\n",
    "            outputs = torch.max(hidden_states, dim=1)[0]\n",
    "        else:\n",
    "            raise Exception(\n",
    "                \"The pooling method hasn't been defined! Your pooling mode must be one of these ['mean', 'sum', 'max']\")\n",
    "\n",
    "        return outputs\n",
    "\n",
    "    def forward(\n",
    "            self,\n",
    "            input_values,\n",
    "            attention_mask=None,\n",
    "            output_attentions=None,\n",
    "            output_hidden_states=None,\n",
    "            return_dict=None,\n",
    "            labels=None,\n",
    "    ):\n",
    "        return_dict = return_dict if return_dict is not None else self.config.use_return_dict\n",
    "        outputs = self.wav2vec2(\n",
    "            input_values,\n",
    "            attention_mask=attention_mask,\n",
    "            output_attentions=output_attentions,\n",
    "            output_hidden_states=output_hidden_states,\n",
    "            return_dict=return_dict,\n",
    "        )\n",
    "        hidden_states = outputs[0]\n",
    "        hidden_states = self.merged_strategy(hidden_states, mode=self.pooling_mode)\n",
    "        logits = self.classifier(hidden_states)\n",
    "\n",
    "        loss = None\n",
    "        if labels is not None:\n",
    "            if self.config.problem_type is None:\n",
    "                if self.num_labels == 1:\n",
    "                    self.config.problem_type = \"regression\"\n",
    "                elif self.num_labels > 1 and (labels.dtype == torch.long or labels.dtype == torch.int):\n",
    "                    self.config.problem_type = \"single_label_classification\"\n",
    "                else:\n",
    "                    self.config.problem_type = \"multi_label_classification\"\n",
    "\n",
    "            if self.config.problem_type == \"regression\":\n",
    "                loss_fct = MSELoss()\n",
    "                loss = loss_fct(logits.view(-1, self.num_labels), labels)\n",
    "            elif self.config.problem_type == \"single_label_classification\":\n",
    "                loss_fct = CrossEntropyLoss()\n",
    "                loss = loss_fct(logits.view(-1, self.num_labels), labels.view(-1))\n",
    "            elif self.config.problem_type == \"multi_label_classification\":\n",
    "                loss_fct = BCEWithLogitsLoss()\n",
    "                loss = loss_fct(logits, labels)\n",
    "\n",
    "        if not return_dict:\n",
    "            output = (logits,) + outputs[2:]\n",
    "            return ((loss,) + output) if loss is not None else output\n",
    "\n",
    "        return SpeechClassifierOutput(\n",
    "            loss=loss,\n",
    "            logits=logits,\n",
    "            hidden_states=outputs.hidden_states,\n",
    "            attentions=outputs.attentions,\n",
    "        )\n"
   ]
  },
  {
   "cell_type": "markdown",
   "id": "ec984f78-9dcd-4e89-b663-9704a3d9a4f2",
   "metadata": {},
   "source": [
    "## Use pretrained wav2vec2 model to predict genre\n",
    "\n",
    "We are using a pretrained model uploaded to Huggingface. Maybe we should train a model ourselves?"
   ]
  },
  {
   "cell_type": "code",
   "execution_count": 7,
   "id": "a9f907d4-4ac9-4f93-b759-9187b9ab2bd2",
   "metadata": {},
   "outputs": [],
   "source": [
    "from transformers import AutoConfig, Wav2Vec2Processor, Wav2Vec2FeatureExtractor"
   ]
  },
  {
   "cell_type": "code",
   "execution_count": 8,
   "id": "43b2fecc-26b1-4396-a18b-9ebd365d7966",
   "metadata": {},
   "outputs": [],
   "source": [
    "device = torch.device(\"cuda\" if torch.cuda.is_available() else \"cpu\")\n",
    "config = AutoConfig.from_pretrained(model_name_or_path)\n",
    "feature_extractor = Wav2Vec2FeatureExtractor.from_pretrained(model_name_or_path)\n",
    "sampling_rate = feature_extractor.sampling_rate"
   ]
  },
  {
   "cell_type": "code",
   "execution_count": 10,
   "id": "6167bf8c-5ac9-4dff-af81-5a3f04cf06e6",
   "metadata": {},
   "outputs": [
    {
     "data": {
      "text/plain": [
       "Wav2Vec2FeatureExtractor {\n",
       "  \"do_normalize\": true,\n",
       "  \"feature_extractor_type\": \"Wav2Vec2FeatureExtractor\",\n",
       "  \"feature_size\": 1,\n",
       "  \"padding_side\": \"right\",\n",
       "  \"padding_value\": 0,\n",
       "  \"return_attention_mask\": false,\n",
       "  \"sampling_rate\": 16000\n",
       "}"
      ]
     },
     "execution_count": 10,
     "metadata": {},
     "output_type": "execute_result"
    }
   ],
   "source": [
    "feature_extractor"
   ]
  },
  {
   "cell_type": "code",
   "execution_count": 11,
   "id": "ba1e489e-ee3b-49f4-9f57-d5dc32c5477e",
   "metadata": {},
   "outputs": [],
   "source": [
    "model = Wav2Vec2ForSpeechClassification.from_pretrained(model_name_or_path).to(device)"
   ]
  },
  {
   "cell_type": "markdown",
   "id": "d87812c8-2f0f-4535-8629-ad2bd9b0962e",
   "metadata": {},
   "source": [
    "## Model evaluation on test set"
   ]
  },
  {
   "cell_type": "code",
   "execution_count": 28,
   "id": "ee2a42ed-8d38-45d8-9a48-efd7b7a062dd",
   "metadata": {},
   "outputs": [],
   "source": [
    "import numpy as np\n",
    "import librosa\n",
    "import torchaudio\n",
    "from datasets import load_dataset, load_metric\n",
    "from sklearn.metrics import classification_report"
   ]
  },
  {
   "cell_type": "code",
   "execution_count": 13,
   "id": "99fe061b-db2d-484b-b501-e7b3da20bf06",
   "metadata": {},
   "outputs": [
    {
     "name": "stderr",
     "output_type": "stream",
     "text": [
      "Using custom data configuration default-b0b880de4f45f458\n"
     ]
    },
    {
     "name": "stdout",
     "output_type": "stream",
     "text": [
      "Downloading and preparing dataset csv/default to C:\\Users\\ACER\\.cache\\huggingface\\datasets\\csv\\default-b0b880de4f45f458\\0.0.0\\50d3f5d1aef1732094f95566e0c67506165deea4ff693f78b1a17588fb6bc108...\n"
     ]
    },
    {
     "data": {
      "application/vnd.jupyter.widget-view+json": {
       "model_id": "046b974373614adab87b79976c1fa34b",
       "version_major": 2,
       "version_minor": 0
      },
      "text/plain": [
       "Downloading data files:   0%|          | 0/1 [00:00<?, ?it/s]"
      ]
     },
     "metadata": {},
     "output_type": "display_data"
    },
    {
     "data": {
      "application/vnd.jupyter.widget-view+json": {
       "model_id": "fa2cb2529a3549f6ba169837e27d3755",
       "version_major": 2,
       "version_minor": 0
      },
      "text/plain": [
       "Extracting data files:   0%|          | 0/1 [00:00<?, ?it/s]"
      ]
     },
     "metadata": {},
     "output_type": "display_data"
    },
    {
     "name": "stdout",
     "output_type": "stream",
     "text": [
      "Dataset csv downloaded and prepared to C:\\Users\\ACER\\.cache\\huggingface\\datasets\\csv\\default-b0b880de4f45f458\\0.0.0\\50d3f5d1aef1732094f95566e0c67506165deea4ff693f78b1a17588fb6bc108. Subsequent calls will reuse this data.\n"
     ]
    },
    {
     "data": {
      "application/vnd.jupyter.widget-view+json": {
       "model_id": "c9c1d38c7578487ab2582547f25b53da",
       "version_major": 2,
       "version_minor": 0
      },
      "text/plain": [
       "  0%|          | 0/1 [00:00<?, ?it/s]"
      ]
     },
     "metadata": {},
     "output_type": "display_data"
    },
    {
     "data": {
      "text/plain": [
       "Dataset({\n",
       "    features: ['name', 'path', 'label'],\n",
       "    num_rows: 200\n",
       "})"
      ]
     },
     "execution_count": 13,
     "metadata": {},
     "output_type": "execute_result"
    }
   ],
   "source": [
    "test_dataset = load_dataset(\"csv\", data_files={\"test\": f\"{dataset_path}/test.csv\"}, delimiter=\"\\t\")[\"test\"]\n",
    "test_dataset"
   ]
  },
  {
   "cell_type": "code",
   "execution_count": 22,
   "id": "8e0aae8f-7661-48ff-b1d9-5c55e5774ff5",
   "metadata": {},
   "outputs": [],
   "source": [
    "def speech_file_to_array_fn(batch):\n",
    "    speech_array, sampling_rate = torchaudio.load(batch[\"path\"])\n",
    "    speech_array = speech_array.squeeze().numpy()\n",
    "    speech_array = librosa.resample(np.asarray(speech_array), orig_sr=sampling_rate, target_sr=feature_extractor.sampling_rate)\n",
    "\n",
    "    batch[\"speech\"] = speech_array\n",
    "    return batch\n",
    "\n",
    "\n",
    "def predict(batch):\n",
    "    features = feature_extractor(batch[\"speech\"], sampling_rate=feature_extractor.sampling_rate, return_tensors=\"pt\", padding=True)\n",
    "\n",
    "    input_values = features.input_values.to(device)\n",
    "\n",
    "    with torch.no_grad():\n",
    "        logits = model(input_values).logits \n",
    "\n",
    "    pred_ids = torch.argmax(logits, dim=-1).detach().cpu().numpy()\n",
    "    batch[\"predicted\"] = pred_ids\n",
    "    return batch"
   ]
  },
  {
   "cell_type": "code",
   "execution_count": 23,
   "id": "36fe013a-a0e6-4807-83de-26a78d86478f",
   "metadata": {
    "colab": {
     "base_uri": "https://localhost:8080/",
     "height": 66,
     "referenced_widgets": [
      "c8839901ba094c8ab415d65748d3af49",
      "245c287d72cb404f827736af171b8803",
      "f843e9c85ceb48fa8828986330993260",
      "9e9f79c923b94e90abccc36283252499",
      "6146d16c791242ed8415a8ef0478b420",
      "75e6d16ae7cb40c3bea7723921f94ae9",
      "e0d8f9cbacb64b8cbd82708309653734",
      "221f9e32a50d4d18b478da3df315b5fa"
     ]
    },
    "id": "S4P6P6XwW85p",
    "outputId": "f59e0a91-c409-422a-cff2-13ed14b11bfc"
   },
   "outputs": [
    {
     "data": {
      "application/vnd.jupyter.widget-view+json": {
       "model_id": "7dbe7fabc9de478eb9c8c5b19076c516",
       "version_major": 2,
       "version_minor": 0
      },
      "text/plain": [
       "  0%|          | 0/200 [00:00<?, ?ex/s]"
      ]
     },
     "metadata": {},
     "output_type": "display_data"
    }
   ],
   "source": [
    "test_dataset = test_dataset.map(speech_file_to_array_fn)"
   ]
  },
  {
   "cell_type": "code",
   "execution_count": 24,
   "id": "d1ab7730-1271-4699-91ee-e307420b76ca",
   "metadata": {
    "colab": {
     "base_uri": "https://localhost:8080/",
     "height": 66,
     "referenced_widgets": [
      "1cf3d36ba8b24757a48ea06239b8c595",
      "5b7655a0ec914ce285b4802a7265dd1b",
      "07e02f90c9474a9bac60af6e157c5635",
      "c6d50e8f952e455bae2bf13902960026",
      "4b725e6473e5477c9161eecf4af4113f",
      "fc2deb84c1124cf9b28005f8eafdcc5f",
      "d3561462d3224124a63ed50cf42709f9",
      "33189cc9393f494082c08f62c71f5d8d"
     ]
    },
    "id": "K_oZJzHsXKHv",
    "outputId": "c31ccfcc-416f-4b79-f916-21e6b3e27fb5"
   },
   "outputs": [
    {
     "data": {
      "application/vnd.jupyter.widget-view+json": {
       "model_id": "693ade60c792456ab0198351f8cdbaca",
       "version_major": 2,
       "version_minor": 0
      },
      "text/plain": [
       "  0%|          | 0/25 [00:00<?, ?ba/s]"
      ]
     },
     "metadata": {},
     "output_type": "display_data"
    }
   ],
   "source": [
    "result = test_dataset.map(predict, batched=True, batch_size=8)"
   ]
  },
  {
   "cell_type": "code",
   "execution_count": 25,
   "id": "732bcd29-ae6b-4d43-871c-a16e92228966",
   "metadata": {
    "colab": {
     "base_uri": "https://localhost:8080/"
    },
    "id": "BnfJLZvAaxTo",
    "outputId": "810472e5-03e2-4448-ff87-2473918ef403"
   },
   "outputs": [
    {
     "data": {
      "text/plain": [
       "['blues',\n",
       " 'classical',\n",
       " 'country',\n",
       " 'disco',\n",
       " 'hiphop',\n",
       " 'jazz',\n",
       " 'metal',\n",
       " 'pop',\n",
       " 'reggae',\n",
       " 'rock']"
      ]
     },
     "execution_count": 25,
     "metadata": {},
     "output_type": "execute_result"
    }
   ],
   "source": [
    "label_names = [config.id2label[i] for i in range(config.num_labels)]\n",
    "label_names"
   ]
  },
  {
   "cell_type": "code",
   "execution_count": 29,
   "id": "f7f3584b-c114-4c8e-8eff-35cd2f6a5c8d",
   "metadata": {
    "colab": {
     "base_uri": "https://localhost:8080/"
    },
    "id": "tUt5rIppXrzl",
    "outputId": "6f4e1502-b862-446c-c1e1-bc1d11a1fa9f"
   },
   "outputs": [
    {
     "name": "stdout",
     "output_type": "stream",
     "text": [
      "              precision    recall  f1-score   support\n",
      "\n",
      "       blues       0.79      0.95      0.86        20\n",
      "   classical       0.86      0.95      0.90        20\n",
      "     country       0.81      0.65      0.72        20\n",
      "       disco       0.78      0.70      0.74        20\n",
      "      hiphop       0.93      0.70      0.80        20\n",
      "        jazz       1.00      0.85      0.92        20\n",
      "       metal       0.78      0.90      0.84        20\n",
      "         pop       0.92      0.55      0.69        20\n",
      "      reggae       0.54      0.95      0.69        20\n",
      "        rock       0.61      0.55      0.58        20\n",
      "\n",
      "    accuracy                           0.78       200\n",
      "   macro avg       0.80      0.78      0.77       200\n",
      "weighted avg       0.80      0.78      0.77       200\n",
      "\n"
     ]
    }
   ],
   "source": [
    "print(classification_report(y_true, y_pred, target_names=label_names))"
   ]
  },
  {
   "cell_type": "markdown",
   "id": "de104889-7e4a-4c84-b6d3-89ae73c5a59a",
   "metadata": {},
   "source": [
    "## Predict genres of manually curated songs\n",
    "\n",
    "These audiofiles are preprocessed to be of the same properties as the GTZAN dataset, i.e.,\n",
    "\n",
    "- sampling rate = 22050\n",
    "- no of channels = 1"
   ]
  },
  {
   "cell_type": "code",
   "execution_count": null,
   "id": "e6f8d032-6f12-4ea2-99eb-fe4a80566bf3",
   "metadata": {
    "id": "EQzCioPhWIiX"
   },
   "outputs": [],
   "source": [
    "import torch\n",
    "import torch.nn as nn\n",
    "import torch.nn.functional as F\n",
    "import torchaudio\n",
    "from transformers import AutoConfig, Wav2Vec2Processor\n",
    "\n",
    "import librosa\n",
    "import numpy as np\n",
    "import pandas as pd"
   ]
  },
  {
   "cell_type": "code",
   "execution_count": null,
   "id": "5163ab5c-2462-4f23-b70f-f1210afbf148",
   "metadata": {
    "id": "DocavTvQWIr_"
   },
   "outputs": [],
   "source": [
    "device = torch.device(\"cuda\" if torch.cuda.is_available() else \"cpu\")\n",
    "config = AutoConfig.from_pretrained(model_name_or_path)\n",
    "feature_extractor = Wav2Vec2FeatureExtractor.from_pretrained(model_name_or_path)\n",
    "sampling_rate = feature_extractor.sampling_rate\n",
    "model = Wav2Vec2ForSpeechClassification.from_pretrained(model_name_or_path).to(device)"
   ]
  },
  {
   "cell_type": "code",
   "execution_count": null,
   "id": "ec89950a-0ca7-4c23-a97e-21e6b5695635",
   "metadata": {
    "id": "1SSs95o9WIvK"
   },
   "outputs": [],
   "source": [
    "def speech_file_to_array_fn(path, sampling_rate):\n",
    "    speech_array, _sampling_rate = torchaudio.load(path)\n",
    "    resampler = torchaudio.transforms.Resample(_sampling_rate)\n",
    "    speech = resampler(speech_array).squeeze().numpy()\n",
    "    return speech\n",
    "\n",
    "\n",
    "def predict(path, sampling_rate):\n",
    "    speech = speech_file_to_array_fn(path, sampling_rate)\n",
    "    features = feature_extractor(speech, sampling_rate=sampling_rate, return_tensors=\"pt\", padding=True)\n",
    "\n",
    "    input_values = features.input_values.to(device)\n",
    "\n",
    "    with torch.no_grad():\n",
    "        logits = model(input_values).logits\n",
    "\n",
    "    scores = F.softmax(logits, dim=1).detach().cpu().numpy()[0]\n",
    "    outputs = [{\"Label\": config.id2label[i], \"Score\": f\"{round(score * 100, 3):.1f}%\"} for i, score in enumerate(scores)]\n",
    "    return outputs"
   ]
  },
  {
   "cell_type": "code",
   "execution_count": 11,
   "id": "ce5ed961-624f-4695-91cd-ec823aa9d119",
   "metadata": {},
   "outputs": [],
   "source": [
    "test_dir = f'{dataset_path}/genres_test'\n",
    "songs = 'Taylor_Swift_Love_Story'\n",
    "songs += ' Nirvana_Smells_Like_Teen_Spirit'\n",
    "songs += ' Green_Day_American_Idiot'\n",
    "songs = songs.split()"
   ]
  },
  {
   "cell_type": "code",
   "execution_count": 12,
   "id": "24a99725-68ff-404d-ae87-5d40480c4b5b",
   "metadata": {
    "tags": []
   },
   "outputs": [],
   "source": [
    "preds = None\n",
    "\n",
    "for song in songs:\n",
    "    path = f'{test_dir}/{song}.wav'\n",
    "    scores = predict(path, sampling_rate)\n",
    "\n",
    "    if preds is None:\n",
    "        preds = scores\n",
    "    else:\n",
    "        preds = np.vstack([preds, scores])"
   ]
  },
  {
   "cell_type": "code",
   "execution_count": 13,
   "id": "8506e3f4-2386-4a8c-b473-14f4a2afded9",
   "metadata": {},
   "outputs": [
    {
     "data": {
      "image/png": "[encoded data removed]",
      "text/plain": [
       "<Figure size 1080x288 with 3 Axes>"
      ]
     },
     "metadata": {
      "needs_background": "light"
     },
     "output_type": "display_data"
    }
   ],
   "source": [
    "fig,ax = plt.subplots(1,len(songs),figsize=(15,4))\n",
    "\n",
    "for i in range(len(songs)):\n",
    "    ax[i].bar(x=genres,height=preds[i])\n",
    "    ax[i].tick_params('x', labelrotation=45)\n",
    "    ax[i].set_title(f'{songs[i]}')\n",
    "    \n",
    "plt.show()"
   ]
  }
 ],
 "metadata": {
  "kernelspec": {
   "display_name": "mlproj",
   "language": "python",
   "name": "mlproj"
  },
  "language_info": {
   "codemirror_mode": {
    "name": "ipython",
    "version": 3
   },
   "file_extension": ".py",
   "mimetype": "text/x-python",
   "name": "python",
   "nbconvert_exporter": "python",
   "pygments_lexer": "ipython3",
   "version": "3.9.7"
  }
 },
 "nbformat": 4,
 "nbformat_minor": 5
}
